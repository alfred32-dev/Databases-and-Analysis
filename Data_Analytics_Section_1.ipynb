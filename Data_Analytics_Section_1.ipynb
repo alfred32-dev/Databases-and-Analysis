{
  "nbformat": 4,
  "nbformat_minor": 0,
  "metadata": {
    "colab": {
      "provenance": []
    },
    "kernelspec": {
      "name": "ir",
      "display_name": "R"
    },
    "language_info": {
      "name": "R"
    }
  },
  "cells": [
    {
      "cell_type": "code",
      "execution_count": null,
      "metadata": {
        "id": "TlpJL0ydJ2d9",
        "colab": {
          "base_uri": "https://localhost:8080/"
        },
        "outputId": "9ec55a81-457e-4e62-9d16-c0ef9d84cb45"
      },
      "outputs": [
        {
          "output_type": "stream",
          "name": "stderr",
          "text": [
            "Installing package into ‘/usr/local/lib/R/site-library’\n",
            "(as ‘lib’ is unspecified)\n",
            "\n",
            "Installing package into ‘/usr/local/lib/R/site-library’\n",
            "(as ‘lib’ is unspecified)\n",
            "\n",
            "Installing package into ‘/usr/local/lib/R/site-library’\n",
            "(as ‘lib’ is unspecified)\n",
            "\n"
          ]
        }
      ],
      "source": [
        "#@title Installing Packages\n",
        "\n",
        "install.packages(\"sqldf\")    # SQL within R\n",
        "install.packages(\"dplyr\")    # Data manipulation\n",
        "install.packages(\"ggplot2\")  # Visualization\n",
        "\n",
        "library(sqldf)\n",
        "library(dplyr)\n",
        "library(ggplot2)"
      ]
    },
    {
      "cell_type": "code",
      "source": [
        "#@title Loading the Ideas dataset\n",
        "\n",
        "\n",
        "url <- \"https://raw.githubusercontent.com/User13212/GreenFuture-Analytics/refs/heads/main/greenfuture_ideas_dataset.csv\"\n",
        "ideas <- read.csv(url, header = TRUE, stringsAsFactors = FALSE)"
      ],
      "metadata": {
        "id": "A574P0rYeGDo"
      },
      "execution_count": null,
      "outputs": []
    },
    {
      "cell_type": "code",
      "source": [
        "colnames(ideas) <- c(\n",
        "  \"Employee.ID\", \"Office.Location\", \"Department\", \"Idea.Submission.Date\",\n",
        "  \"Idea.Title\", \"Idea.Category\", \"Number.of.Votes\", \"Collaboration.Status\",\n",
        "  \"Approval.Status\", \"Implementation.Status\", \"Security.Concern.Flag\"\n",
        ")\n",
        "\n",
        "\n",
        "head(ideas)\n",
        "\n"
      ],
      "metadata": {
        "colab": {
          "base_uri": "https://localhost:8080/",
          "height": 411
        },
        "id": "tkVTpU1ZHzr-",
        "outputId": "fc71730b-3f1b-4403-9189-178d4889ff76"
      },
      "execution_count": null,
      "outputs": [
        {
          "output_type": "display_data",
          "data": {
            "text/html": [
              "<table class=\"dataframe\">\n",
              "<caption>A data.frame: 6 × 11</caption>\n",
              "<thead>\n",
              "\t<tr><th></th><th scope=col>Employee.ID</th><th scope=col>Office.Location</th><th scope=col>Department</th><th scope=col>Idea.Submission.Date</th><th scope=col>Idea.Title</th><th scope=col>Idea.Category</th><th scope=col>Number.of.Votes</th><th scope=col>Collaboration.Status</th><th scope=col>Approval.Status</th><th scope=col>Implementation.Status</th><th scope=col>Security.Concern.Flag</th></tr>\n",
              "\t<tr><th></th><th scope=col>&lt;chr&gt;</th><th scope=col>&lt;chr&gt;</th><th scope=col>&lt;chr&gt;</th><th scope=col>&lt;chr&gt;</th><th scope=col>&lt;chr&gt;</th><th scope=col>&lt;chr&gt;</th><th scope=col>&lt;int&gt;</th><th scope=col>&lt;chr&gt;</th><th scope=col>&lt;chr&gt;</th><th scope=col>&lt;chr&gt;</th><th scope=col>&lt;chr&gt;</th></tr>\n",
              "</thead>\n",
              "<tbody>\n",
              "\t<tr><th scope=row>1</th><td>587b45d8</td><td>Germany  </td><td>Renewable Energy    </td><td>16/04/2024</td><td>Idea 1</td><td>Sustainable Transport</td><td>231</td><td>Single Contributor </td><td>Pending </td><td>Not Started</td><td>No </td></tr>\n",
              "\t<tr><th scope=row>2</th><td>0d3e8b8e</td><td>Canada   </td><td>Renewable Energy    </td><td>14/01/2024</td><td>Idea 2</td><td>Water Management     </td><td>477</td><td>Cross-Regional Team</td><td>Approved</td><td>In Progress</td><td>No </td></tr>\n",
              "\t<tr><th scope=row>3</th><td>fa012fe7</td><td>France   </td><td>Environmental Policy</td><td>10/01/2025</td><td>Idea 3</td><td>Renewable Energy     </td><td> 48</td><td>Cross-Regional Team</td><td>Approved</td><td>Not Started</td><td>Yes</td></tr>\n",
              "\t<tr><th scope=row>4</th><td>cb8ed680</td><td>Japan    </td><td>Technology          </td><td>24/12/2023</td><td>Idea 4</td><td>Circular Economy     </td><td>330</td><td>Cross-Regional Team</td><td>Approved</td><td>Completed  </td><td>No </td></tr>\n",
              "\t<tr><th scope=row>5</th><td>333fff26</td><td>Australia</td><td>Technology          </td><td>13/02/2025</td><td>Idea 5</td><td>Circular Economy     </td><td>428</td><td>Single Contributor </td><td>Approved</td><td>Not Started</td><td>No </td></tr>\n",
              "\t<tr><th scope=row>6</th><td>a34ebb0f</td><td>India    </td><td>Technology          </td><td>08/09/2024</td><td>Idea 6</td><td>Circular Economy     </td><td>431</td><td>Single Contributor </td><td>Rejected</td><td>Not Started</td><td>No </td></tr>\n",
              "</tbody>\n",
              "</table>\n"
            ],
            "text/markdown": "\nA data.frame: 6 × 11\n\n| <!--/--> | Employee.ID &lt;chr&gt; | Office.Location &lt;chr&gt; | Department &lt;chr&gt; | Idea.Submission.Date &lt;chr&gt; | Idea.Title &lt;chr&gt; | Idea.Category &lt;chr&gt; | Number.of.Votes &lt;int&gt; | Collaboration.Status &lt;chr&gt; | Approval.Status &lt;chr&gt; | Implementation.Status &lt;chr&gt; | Security.Concern.Flag &lt;chr&gt; |\n|---|---|---|---|---|---|---|---|---|---|---|---|\n| 1 | 587b45d8 | Germany   | Renewable Energy     | 16/04/2024 | Idea 1 | Sustainable Transport | 231 | Single Contributor  | Pending  | Not Started | No  |\n| 2 | 0d3e8b8e | Canada    | Renewable Energy     | 14/01/2024 | Idea 2 | Water Management      | 477 | Cross-Regional Team | Approved | In Progress | No  |\n| 3 | fa012fe7 | France    | Environmental Policy | 10/01/2025 | Idea 3 | Renewable Energy      |  48 | Cross-Regional Team | Approved | Not Started | Yes |\n| 4 | cb8ed680 | Japan     | Technology           | 24/12/2023 | Idea 4 | Circular Economy      | 330 | Cross-Regional Team | Approved | Completed   | No  |\n| 5 | 333fff26 | Australia | Technology           | 13/02/2025 | Idea 5 | Circular Economy      | 428 | Single Contributor  | Approved | Not Started | No  |\n| 6 | a34ebb0f | India     | Technology           | 08/09/2024 | Idea 6 | Circular Economy      | 431 | Single Contributor  | Rejected | Not Started | No  |\n\n",
            "text/latex": "A data.frame: 6 × 11\n\\begin{tabular}{r|lllllllllll}\n  & Employee.ID & Office.Location & Department & Idea.Submission.Date & Idea.Title & Idea.Category & Number.of.Votes & Collaboration.Status & Approval.Status & Implementation.Status & Security.Concern.Flag\\\\\n  & <chr> & <chr> & <chr> & <chr> & <chr> & <chr> & <int> & <chr> & <chr> & <chr> & <chr>\\\\\n\\hline\n\t1 & 587b45d8 & Germany   & Renewable Energy     & 16/04/2024 & Idea 1 & Sustainable Transport & 231 & Single Contributor  & Pending  & Not Started & No \\\\\n\t2 & 0d3e8b8e & Canada    & Renewable Energy     & 14/01/2024 & Idea 2 & Water Management      & 477 & Cross-Regional Team & Approved & In Progress & No \\\\\n\t3 & fa012fe7 & France    & Environmental Policy & 10/01/2025 & Idea 3 & Renewable Energy      &  48 & Cross-Regional Team & Approved & Not Started & Yes\\\\\n\t4 & cb8ed680 & Japan     & Technology           & 24/12/2023 & Idea 4 & Circular Economy      & 330 & Cross-Regional Team & Approved & Completed   & No \\\\\n\t5 & 333fff26 & Australia & Technology           & 13/02/2025 & Idea 5 & Circular Economy      & 428 & Single Contributor  & Approved & Not Started & No \\\\\n\t6 & a34ebb0f & India     & Technology           & 08/09/2024 & Idea 6 & Circular Economy      & 431 & Single Contributor  & Rejected & Not Started & No \\\\\n\\end{tabular}\n",
            "text/plain": [
              "  Employee.ID Office.Location Department           Idea.Submission.Date\n",
              "1 587b45d8    Germany         Renewable Energy     16/04/2024          \n",
              "2 0d3e8b8e    Canada          Renewable Energy     14/01/2024          \n",
              "3 fa012fe7    France          Environmental Policy 10/01/2025          \n",
              "4 cb8ed680    Japan           Technology           24/12/2023          \n",
              "5 333fff26    Australia       Technology           13/02/2025          \n",
              "6 a34ebb0f    India           Technology           08/09/2024          \n",
              "  Idea.Title Idea.Category         Number.of.Votes Collaboration.Status\n",
              "1 Idea 1     Sustainable Transport 231             Single Contributor  \n",
              "2 Idea 2     Water Management      477             Cross-Regional Team \n",
              "3 Idea 3     Renewable Energy       48             Cross-Regional Team \n",
              "4 Idea 4     Circular Economy      330             Cross-Regional Team \n",
              "5 Idea 5     Circular Economy      428             Single Contributor  \n",
              "6 Idea 6     Circular Economy      431             Single Contributor  \n",
              "  Approval.Status Implementation.Status Security.Concern.Flag\n",
              "1 Pending         Not Started           No                   \n",
              "2 Approved        In Progress           No                   \n",
              "3 Approved        Not Started           Yes                  \n",
              "4 Approved        Completed             No                   \n",
              "5 Approved        Not Started           No                   \n",
              "6 Rejected        Not Started           No                   "
            ]
          },
          "metadata": {}
        }
      ]
    },
    {
      "cell_type": "code",
      "source": [
        "#@title SQL Statements.\n",
        "\n",
        "#Connect to an in-memory SQLite database\n",
        "con <- dbConnect(SQLite(), \":memory:\")\n",
        "dbWriteTable(con, \"ideas\", ideas, overwrite = TRUE)"
      ],
      "metadata": {
        "id": "KvF8qN_6iKyO"
      },
      "execution_count": null,
      "outputs": []
    },
    {
      "cell_type": "code",
      "source": [
        "#SELECT\n",
        "\n",
        "germany_ideas <- dbGetQuery(con, \"\n",
        "  SELECT *\n",
        "  FROM ideas\n",
        "  WHERE [Office.Location] = 'Germany';\n",
        "\")\n",
        "print(\"Top Germany submissions:\")\n",
        "print(head(germany_ideas))"
      ],
      "metadata": {
        "colab": {
          "base_uri": "https://localhost:8080/"
        },
        "id": "V8mn_HkQHsto",
        "outputId": "8cb71c19-c99b-49a1-c000-c1feedd441ee"
      },
      "execution_count": null,
      "outputs": [
        {
          "output_type": "stream",
          "name": "stdout",
          "text": [
            "[1] \"Top Germany submissions:\"\n",
            "  Employee.ID Office.Location        Department Idea.Submission.Date Idea.Title\n",
            "1    587b45d8         Germany  Renewable Energy           16/04/2024     Idea 1\n",
            "2    018d372d         Germany        Technology           16/08/2024    Idea 17\n",
            "3    d0bca6c7         Germany    Infrastructure           24/02/2024    Idea 30\n",
            "4    67ed2b36         Germany          Research           22/03/2023    Idea 34\n",
            "5    b04c85a9         Germany Urban Development           22/09/2023    Idea 35\n",
            "6    a76009fe         Germany    Infrastructure           08/05/2023    Idea 37\n",
            "          Idea.Category Number.of.Votes Collaboration.Status Approval.Status\n",
            "1 Sustainable Transport             231   Single Contributor         Pending\n",
            "2      Water Management               2  Cross-Regional Team        Approved\n",
            "3 Sustainable Transport              37  Cross-Regional Team        Rejected\n",
            "4          Smart Cities             308   Single Contributor         Pending\n",
            "5      Circular Economy             410  Cross-Regional Team        Rejected\n",
            "6      Circular Economy              29  Cross-Regional Team        Rejected\n",
            "  Implementation.Status Security.Concern.Flag\n",
            "1           Not Started                    No\n",
            "2             Completed                    No\n",
            "3           Not Started                    No\n",
            "4           Not Started                    No\n",
            "5           Not Started                    No\n",
            "6           Not Started                    No\n"
          ]
        }
      ]
    },
    {
      "cell_type": "code",
      "source": [
        "# INSERT\n",
        "insert_sql <- \"\n",
        "  INSERT INTO ideas (\n",
        "    [Employee.ID], [Office.Location], Department, [Idea.Submission.Date],\n",
        "    [Idea.Title], [Idea.Category], [Number.of.Votes], [Collaboration.Status],\n",
        "    [Approval.Status], [Implementation.Status], [Security.Concern.Flag]\n",
        "  ) VALUES (\n",
        "    '3001', 'Berlin', 'R&D', '2025-05-01',\n",
        "    'Smart Waste Sensors', 'Technology', 0, 'Single Contributor',\n",
        "    'Pending', 'Not Started', 'No'\n",
        "  );\n",
        "\"\n",
        "dbExecute(con, insert_sql)\n",
        "print(\"After INSERT, newly inserted record:\")\n",
        "print(dbGetQuery(con, \"\n",
        "  SELECT *\n",
        "  FROM ideas\n",
        "  WHERE [Employee.ID] = '3001';\n",
        "\"))"
      ],
      "metadata": {
        "colab": {
          "base_uri": "https://localhost:8080/",
          "height": 159
        },
        "id": "R2jm4qIuHuV6",
        "outputId": "b3c46831-0105-41eb-b212-482417d2c1ce"
      },
      "execution_count": null,
      "outputs": [
        {
          "output_type": "display_data",
          "data": {
            "text/html": [
              "1"
            ],
            "text/markdown": "1",
            "text/latex": "1",
            "text/plain": [
              "[1] 1"
            ]
          },
          "metadata": {}
        },
        {
          "output_type": "stream",
          "name": "stdout",
          "text": [
            "[1] \"After INSERT, newly inserted record:\"\n",
            "  Employee.ID Office.Location Department Idea.Submission.Date\n",
            "1        3001          Berlin        R&D           2025-05-01\n",
            "           Idea.Title Idea.Category Number.of.Votes Collaboration.Status\n",
            "1 Smart Waste Sensors    Technology               0   Single Contributor\n",
            "  Approval.Status Implementation.Status Security.Concern.Flag\n",
            "1         Pending           Not Started                    No\n"
          ]
        }
      ]
    },
    {
      "cell_type": "code",
      "source": [
        "print(dbGetQuery(con, \"\n",
        "  SELECT *\n",
        "  FROM ideas\n",
        "  ORDER BY [Number.of.Votes] DESC\n",
        "  LIMIT 6;\n",
        "\"))\n"
      ],
      "metadata": {
        "colab": {
          "base_uri": "https://localhost:8080/"
        },
        "id": "At1uw0oHjAlh",
        "outputId": "f758ad08-bef8-458f-965a-82c59ab19e2c"
      },
      "execution_count": null,
      "outputs": [
        {
          "output_type": "stream",
          "name": "stdout",
          "text": [
            "  Employee.ID Office.Location        Department Idea.Submission.Date Idea.Title\n",
            "1    f2105213             USA    Infrastructure           20/12/2024   Idea 422\n",
            "2    18b9a7b4           China    Infrastructure           17/06/2023   Idea 915\n",
            "3    7d239d23             USA Urban Development           18/10/2024  Idea 1020\n",
            "4    c9a9b03d          Brazil          Research           09/08/2024  Idea 1146\n",
            "5    7fde2f60          France    Infrastructure           06/01/2024  Idea 1323\n",
            "6    be71d545          Brazil        Technology           20/01/2025  Idea 2573\n",
            "          Idea.Category Number.of.Votes Collaboration.Status Approval.Status\n",
            "1      Water Management             500   Single Contributor        Rejected\n",
            "2 Sustainable Transport             500  Cross-Regional Team        Rejected\n",
            "3      Circular Economy             500  Cross-Regional Team        Approved\n",
            "4      Renewable Energy             500   Single Contributor        Rejected\n",
            "5      Circular Economy             500   Single Contributor        Rejected\n",
            "6      Renewable Energy             500   Single Contributor        Rejected\n",
            "  Implementation.Status Security.Concern.Flag\n",
            "1           Not Started                    No\n",
            "2           Not Started                    No\n",
            "3           In Progress                   Yes\n",
            "4           Not Started                    No\n",
            "5           Not Started                    No\n",
            "6           Not Started                    No\n"
          ]
        }
      ]
    },
    {
      "cell_type": "code",
      "source": [
        "# UPDATE\n",
        "dbExecute(con, \"\n",
        "  UPDATE ideas\n",
        "  SET [Number.of.Votes] = [Number.of.Votes] + 1\n",
        "  WHERE [Approval.Status] = 'Approved';\n",
        "\")\n",
        "print(\"After UPDATE, top of ideas:\")\n",
        "print(dbGetQuery(con, \"\n",
        "  SELECT *\n",
        "  FROM ideas\n",
        "  ORDER BY [Number.of.Votes] DESC\n",
        "  LIMIT 6;\n",
        "\"))"
      ],
      "metadata": {
        "colab": {
          "base_uri": "https://localhost:8080/",
          "height": 427
        },
        "id": "8VNNJJP6FxZm",
        "outputId": "33fbe228-294d-4f87-eb27-9006b0269c42"
      },
      "execution_count": null,
      "outputs": [
        {
          "output_type": "display_data",
          "data": {
            "text/html": [
              "1037"
            ],
            "text/markdown": "1037",
            "text/latex": "1037",
            "text/plain": [
              "[1] 1037"
            ]
          },
          "metadata": {}
        },
        {
          "output_type": "stream",
          "name": "stdout",
          "text": [
            "[1] \"After UPDATE, top of ideas:\"\n",
            "  Employee.ID Office.Location        Department Idea.Submission.Date Idea.Title\n",
            "1    7d239d23             USA Urban Development           18/10/2024  Idea 1020\n",
            "2    f2105213             USA    Infrastructure           20/12/2024   Idea 422\n",
            "3    18b9a7b4           China    Infrastructure           17/06/2023   Idea 915\n",
            "4    c9a9b03d          Brazil          Research           09/08/2024  Idea 1146\n",
            "5    7fde2f60          France    Infrastructure           06/01/2024  Idea 1323\n",
            "6    de5ed43f             USA        Technology           09/03/2024  Idea 2310\n",
            "          Idea.Category Number.of.Votes Collaboration.Status Approval.Status\n",
            "1      Circular Economy             501  Cross-Regional Team        Approved\n",
            "2      Water Management             500   Single Contributor        Rejected\n",
            "3 Sustainable Transport             500  Cross-Regional Team        Rejected\n",
            "4      Renewable Energy             500   Single Contributor        Rejected\n",
            "5      Circular Economy             500   Single Contributor        Rejected\n",
            "6      Renewable Energy             500  Cross-Regional Team        Approved\n",
            "  Implementation.Status Security.Concern.Flag\n",
            "1           In Progress                   Yes\n",
            "2           Not Started                    No\n",
            "3           Not Started                    No\n",
            "4           Not Started                    No\n",
            "5           Not Started                    No\n",
            "6           In Progress                    No\n"
          ]
        }
      ]
    },
    {
      "cell_type": "code",
      "source": [
        "# DELETE\n",
        "dbExecute(con, \"\n",
        "  DELETE FROM ideas\n",
        "  WHERE [Security.Concern.Flag] = 'Yes';\n",
        "\")\n",
        "print(\"After DELETE, top of ideas:\")\n",
        "print(dbGetQuery(con, \"\n",
        "  SELECT *\n",
        "  FROM ideas\n",
        "  LIMIT 6;\n",
        "\"))"
      ],
      "metadata": {
        "colab": {
          "base_uri": "https://localhost:8080/",
          "height": 427
        },
        "id": "Z7liGxGBF8-W",
        "outputId": "2293c07a-e122-4386-a3c0-13dd413e116e"
      },
      "execution_count": null,
      "outputs": [
        {
          "output_type": "display_data",
          "data": {
            "text/html": [
              "267"
            ],
            "text/markdown": "267",
            "text/latex": "267",
            "text/plain": [
              "[1] 267"
            ]
          },
          "metadata": {}
        },
        {
          "output_type": "stream",
          "name": "stdout",
          "text": [
            "[1] \"After DELETE, top of ideas:\"\n",
            "  Employee.ID Office.Location       Department Idea.Submission.Date Idea.Title\n",
            "1    587b45d8         Germany Renewable Energy           16/04/2024     Idea 1\n",
            "2    0d3e8b8e          Canada Renewable Energy           14/01/2024     Idea 2\n",
            "3    cb8ed680           Japan       Technology           24/12/2023     Idea 4\n",
            "4    333fff26       Australia       Technology           13/02/2025     Idea 5\n",
            "5    a34ebb0f           India       Technology           08/09/2024     Idea 6\n",
            "6    92f7e972          Mexico   Infrastructure           07/10/2024     Idea 7\n",
            "          Idea.Category Number.of.Votes Collaboration.Status Approval.Status\n",
            "1 Sustainable Transport             231   Single Contributor         Pending\n",
            "2      Water Management             478  Cross-Regional Team        Approved\n",
            "3      Circular Economy             331  Cross-Regional Team        Approved\n",
            "4      Circular Economy             429   Single Contributor        Approved\n",
            "5      Circular Economy             431   Single Contributor        Rejected\n",
            "6        Carbon Capture              38  Cross-Regional Team         Pending\n",
            "  Implementation.Status Security.Concern.Flag\n",
            "1           Not Started                    No\n",
            "2           In Progress                    No\n",
            "3             Completed                    No\n",
            "4           Not Started                    No\n",
            "5           Not Started                    No\n",
            "6           Not Started                    No\n"
          ]
        }
      ]
    },
    {
      "cell_type": "code",
      "source": [
        "#@title Mathematical Expressions, Aggregate & Arithmetic Functions"
      ],
      "metadata": {
        "id": "TiDy30mK0GpQ"
      },
      "execution_count": null,
      "outputs": []
    },
    {
      "cell_type": "code",
      "source": [
        "#Growth in monthly submissions (month-over-month percentage change)\n",
        "\n",
        "ideas$Date <- as.Date(ideas$`Idea.Submission.Date`, format = \"%d/%m/%Y\")\n",
        "monthly_counts <- ideas %>%\n",
        "  group_by(Month = format(Date, \"%Y-%m\")) %>%\n",
        "  summarise(Count = n()) %>%\n",
        "  arrange(Month) %>%\n",
        "  mutate(\n",
        "    PrevCount = lag(Count),\n",
        "    MoM_Pct_Change = round((Count - PrevCount) * 100.0 / PrevCount, 2)\n",
        "  )\n",
        "print(\"Monthly submissions with MoM % change:\")\n",
        "print(monthly_counts)\n"
      ],
      "metadata": {
        "colab": {
          "base_uri": "https://localhost:8080/"
        },
        "id": "SeWr8EgU0OeR",
        "outputId": "215e2337-1aaf-48af-8ac7-7c7e2ec81b0c"
      },
      "execution_count": null,
      "outputs": [
        {
          "output_type": "stream",
          "name": "stdout",
          "text": [
            "[1] \"Monthly submissions with MoM % change:\"\n",
            "\u001b[90m# A tibble: 25 × 4\u001b[39m\n",
            "   Month   Count PrevCount MoM_Pct_Change\n",
            "   \u001b[3m\u001b[90m<chr>\u001b[39m\u001b[23m   \u001b[3m\u001b[90m<int>\u001b[39m\u001b[23m     \u001b[3m\u001b[90m<int>\u001b[39m\u001b[23m          \u001b[3m\u001b[90m<dbl>\u001b[39m\u001b[23m\n",
            "\u001b[90m 1\u001b[39m 2023-03   107        \u001b[31mNA\u001b[39m          \u001b[31mNA\u001b[39m   \n",
            "\u001b[90m 2\u001b[39m 2023-04   121       107          13.1 \n",
            "\u001b[90m 3\u001b[39m 2023-05   145       121          19.8 \n",
            "\u001b[90m 4\u001b[39m 2023-06   121       145         -\u001b[31m16\u001b[39m\u001b[31m.\u001b[39m\u001b[31m6\u001b[39m \n",
            "\u001b[90m 5\u001b[39m 2023-07   124       121           2.48\n",
            "\u001b[90m 6\u001b[39m 2023-08   121       124          -\u001b[31m2\u001b[39m\u001b[31m.\u001b[39m\u001b[31m42\u001b[39m\n",
            "\u001b[90m 7\u001b[39m 2023-09   128       121           5.79\n",
            "\u001b[90m 8\u001b[39m 2023-10   132       128           3.12\n",
            "\u001b[90m 9\u001b[39m 2023-11   112       132         -\u001b[31m15\u001b[39m\u001b[31m.\u001b[39m\u001b[31m2\u001b[39m \n",
            "\u001b[90m10\u001b[39m 2023-12   115       112           2.68\n",
            "\u001b[90m# ℹ 15 more rows\u001b[39m\n"
          ]
        }
      ]
    },
    {
      "cell_type": "code",
      "source": [
        "#Security-concern proportion by department\n",
        "\n",
        "sec_prop <- ideas %>%\n",
        "  group_by(Department) %>%\n",
        "  summarise(\n",
        "    Total = n(),\n",
        "    SecurityCount = sum(Security.Concern.Flag == \"Yes\"),\n",
        "    SecurityPct = round(SecurityCount * 100.0 / Total, 2)\n",
        "  )\n",
        "print(\"Security-concern percentage by department:\")\n",
        "print(sec_prop)\n"
      ],
      "metadata": {
        "colab": {
          "base_uri": "https://localhost:8080/"
        },
        "id": "un2DDyqI0piu",
        "outputId": "46011b28-db2f-4481-ce25-6f3b6a6483fe"
      },
      "execution_count": null,
      "outputs": [
        {
          "output_type": "stream",
          "name": "stdout",
          "text": [
            "[1] \"Security-concern percentage by department:\"\n",
            "\u001b[90m# A tibble: 6 × 4\u001b[39m\n",
            "  Department           Total SecurityCount SecurityPct\n",
            "  \u001b[3m\u001b[90m<chr>\u001b[39m\u001b[23m                \u001b[3m\u001b[90m<int>\u001b[39m\u001b[23m         \u001b[3m\u001b[90m<int>\u001b[39m\u001b[23m       \u001b[3m\u001b[90m<dbl>\u001b[39m\u001b[23m\n",
            "\u001b[90m1\u001b[39m Environmental Policy   499            46        9.22\n",
            "\u001b[90m2\u001b[39m Infrastructure         547            46        8.41\n",
            "\u001b[90m3\u001b[39m Renewable Energy       513            44        8.58\n",
            "\u001b[90m4\u001b[39m Research               498            52       10.4 \n",
            "\u001b[90m5\u001b[39m Technology             457            39        8.53\n",
            "\u001b[90m6\u001b[39m Urban Development      486            40        8.23\n"
          ]
        }
      ]
    },
    {
      "cell_type": "code",
      "source": [
        "#@title SQL Queries in R for Innovation Analysis and Optimization\n",
        "\n",
        "#Objective: Extract meaningful insights on submissions, voting patterns, collaboration trends, approval rates, and regional participation.laboration."
      ],
      "metadata": {
        "id": "YuOrWt7KyrmI"
      },
      "execution_count": null,
      "outputs": []
    },
    {
      "cell_type": "code",
      "source": [
        "# 1. Total submissions & percent by region\n",
        "\n",
        "# Insight: Identifies which offices drive the majority of ideas.\n",
        "\n",
        "\n",
        "region_pct <- dbGetQuery(con, \"\n",
        "  SELECT [Office.Location] AS Region,\n",
        "         COUNT(*) AS TotalIdeas,\n",
        "         ROUND( COUNT(*) * 100.0 /\n",
        "                (SELECT COUNT(*) FROM ideas), 2) AS PctOfAll\n",
        "  FROM ideas\n",
        "  GROUP BY [Office.Location]\n",
        "  ORDER BY TotalIdeas DESC;\n",
        "\")\n",
        "print(\"Submissions and percent by region:\")\n",
        "print(region_pct)"
      ],
      "metadata": {
        "colab": {
          "base_uri": "https://localhost:8080/"
        },
        "id": "W4oLNMJvy9pd",
        "outputId": "6fcf2dc2-3396-4397-f9f9-d204f367dcba"
      },
      "execution_count": null,
      "outputs": [
        {
          "output_type": "stream",
          "name": "stdout",
          "text": [
            "[1] \"Submissions and percent by region:\"\n",
            "         Region TotalIdeas PctOfAll\n",
            "1         China        256     9.36\n",
            "2        France        248     9.07\n",
            "3  South Africa        239     8.74\n",
            "4         Japan        239     8.74\n",
            "5            UK        233     8.52\n",
            "6        Canada        231     8.45\n",
            "7       Germany        221     8.08\n",
            "8           USA        220     8.05\n",
            "9     Australia        219     8.01\n",
            "10       Mexico        216     7.90\n",
            "11       Brazil        210     7.68\n",
            "12        India        201     7.35\n",
            "13       Berlin          1     0.04\n"
          ]
        }
      ]
    },
    {
      "cell_type": "code",
      "source": [
        "\n",
        "# 2. Approval rate per region\n",
        "\n",
        "# Insight: Highlights regions where ideas are more likely to be approved.\n",
        "\n",
        "approval_rate <- dbGetQuery(con, \"\n",
        "  SELECT [Office.Location] AS Region,\n",
        "         ROUND( SUM(CASE WHEN [Approval.Status] = 'Approved' THEN 1 ELSE 0 END)\n",
        "                * 100.0 / COUNT(*), 2) AS ApprovalPct\n",
        "  FROM ideas\n",
        "  GROUP BY [Office.Location]\n",
        "  ORDER BY ApprovalPct DESC;\n",
        "\")\n",
        "print(\"Approval rate by region:\")\n",
        "print(approval_rate)\n"
      ],
      "metadata": {
        "colab": {
          "base_uri": "https://localhost:8080/"
        },
        "id": "eEaaKIB5zIbG",
        "outputId": "32570914-b5e6-48d2-cfcc-f9af2c5308b2"
      },
      "execution_count": null,
      "outputs": [
        {
          "output_type": "stream",
          "name": "stdout",
          "text": [
            "[1] \"Approval rate by region:\"\n",
            "         Region ApprovalPct\n",
            "1  South Africa       41.42\n",
            "2        Brazil       37.62\n",
            "3            UK       36.91\n",
            "4           USA       36.82\n",
            "5       Germany       36.20\n",
            "6         China       35.94\n",
            "7        Mexico       33.80\n",
            "8        Canada       33.77\n",
            "9     Australia       33.33\n",
            "10        Japan       33.05\n",
            "11        India       30.35\n",
            "12       France       28.63\n",
            "13       Berlin        0.00\n"
          ]
        }
      ]
    },
    {
      "cell_type": "code",
      "source": [
        "\n",
        "# 3. Average votes by collaboration status\n",
        "\n",
        "# Insight: Determines whether collaborative ideas receive more peer validation.\n",
        "\n",
        "avg_votes_collab <- dbGetQuery(con, \"\n",
        "  SELECT [Collaboration.Status] AS CollabType,\n",
        "         ROUND( AVG([Number.of.Votes]), 2) AS AvgVotes,\n",
        "         COUNT(*) AS CountIdeas\n",
        "  FROM ideas\n",
        "  GROUP BY [Collaboration.Status];\n",
        "\")\n",
        "print(\"Average votes by collaboration status:\")\n",
        "print(avg_votes_collab)\n",
        "\n",
        "\n"
      ],
      "metadata": {
        "id": "jOB8TXyWwZ3B",
        "colab": {
          "base_uri": "https://localhost:8080/"
        },
        "outputId": "9224fcbb-ec17-4d1d-b139-c8f6a1bbb5e2"
      },
      "execution_count": null,
      "outputs": [
        {
          "output_type": "stream",
          "name": "stdout",
          "text": [
            "[1] \"Average votes by collaboration status:\"\n",
            "           CollabType AvgVotes CountIdeas\n",
            "1 Cross-Regional Team   248.06       1330\n",
            "2  Single Contributor   247.22       1404\n"
          ]
        }
      ]
    },
    {
      "cell_type": "code",
      "source": [
        "\n",
        "\n",
        "# 4. Vote-to-approval ratio per category\n",
        "\n",
        "# Insight: Indicates which categories generate votes that translate into approvals most efficiently.\n",
        "\n",
        "vote_approval <- dbGetQuery(con, \"\n",
        "  SELECT [Idea.Category] AS Category,\n",
        "         ROUND( SUM([Number.of.Votes]) * 1.0 /\n",
        "                SUM(CASE WHEN [Approval.Status] = 'Approved' THEN [Number.of.Votes] ELSE 0 END), 2)\n",
        "           AS VoteToApprovedVotesRatio\n",
        "  FROM ideas\n",
        "  GROUP BY [Idea.Category];\n",
        "\")\n",
        "print(\"Vote-to-approved-votes ratio by category:\")\n",
        "print(vote_approval)\n",
        "\n"
      ],
      "metadata": {
        "colab": {
          "base_uri": "https://localhost:8080/"
        },
        "id": "QCMaCF5Mzijv",
        "outputId": "c25395a2-e497-4513-b4f6-952ed19659c7"
      },
      "execution_count": null,
      "outputs": [
        {
          "output_type": "stream",
          "name": "stdout",
          "text": [
            "[1] \"Vote-to-approved-votes ratio by category:\"\n",
            "               Category VoteToApprovedVotesRatio\n",
            "1        Carbon Capture                     3.39\n",
            "2      Circular Economy                     2.56\n",
            "3      Renewable Energy                     2.92\n",
            "4          Smart Cities                     2.92\n",
            "5 Sustainable Transport                     2.61\n",
            "6            Technology                       NA\n",
            "7      Water Management                     2.89\n"
          ]
        }
      ]
    },
    {
      "cell_type": "code",
      "source": [
        "#@title Data Manipulation and Transformation in R\n",
        "\n"
      ],
      "metadata": {
        "id": "r9QYF6buzymN"
      },
      "execution_count": null,
      "outputs": []
    },
    {
      "cell_type": "code",
      "source": [
        "# Filter ideas with more than 400 votes and select only key metadata\n",
        "high_impact <- ideas %>%\n",
        "  filter(Number.of.Votes > 400) %>%\n",
        "  select(Employee.ID, Office.Location, Department, Number.of.Votes)\n",
        "\n",
        "print(\"High-impact ideas (votes > 10):\")\n",
        "print(head(high_impact))\n"
      ],
      "metadata": {
        "colab": {
          "base_uri": "https://localhost:8080/"
        },
        "id": "IGmLjLQY1C6B",
        "outputId": "2d5b328c-bce2-48c6-bde1-a68832f27a23"
      },
      "execution_count": null,
      "outputs": [
        {
          "output_type": "stream",
          "name": "stdout",
          "text": [
            "[1] \"High-impact ideas (votes > 10):\"\n",
            "  Employee.ID Office.Location           Department Number.of.Votes\n",
            "1    0d3e8b8e          Canada     Renewable Energy             477\n",
            "2    333fff26       Australia           Technology             428\n",
            "3    a34ebb0f           India           Technology             431\n",
            "4    b6ed5ec1       Australia Environmental Policy             468\n",
            "5    9dd9f6bb    South Africa       Infrastructure             436\n",
            "6    9d0dd7e0          France Environmental Policy             443\n"
          ]
        }
      ]
    },
    {
      "cell_type": "code",
      "source": [
        "# Creating Derived Variables\n",
        "\n",
        "# Add a normalized popularity metric\n",
        "ideas <- ideas %>%\n",
        "  mutate(Popularity = Number.of.Votes / max(Number.of.Votes))\n",
        "\n",
        "print(\"Dataset with new Popularity column:\")\n",
        "print(head(ideas))\n"
      ],
      "metadata": {
        "colab": {
          "base_uri": "https://localhost:8080/"
        },
        "id": "4t-yvzXl1GSc",
        "outputId": "28ab2df8-ad17-4078-ce6e-977ffb84b769"
      },
      "execution_count": null,
      "outputs": [
        {
          "output_type": "stream",
          "name": "stdout",
          "text": [
            "[1] \"Dataset with new Popularity column:\"\n",
            "  Employee.ID Office.Location           Department Idea.Submission.Date\n",
            "1    587b45d8         Germany     Renewable Energy           16/04/2024\n",
            "2    0d3e8b8e          Canada     Renewable Energy           14/01/2024\n",
            "3    fa012fe7          France Environmental Policy           10/01/2025\n",
            "4    cb8ed680           Japan           Technology           24/12/2023\n",
            "5    333fff26       Australia           Technology           13/02/2025\n",
            "6    a34ebb0f           India           Technology           08/09/2024\n",
            "  Idea.Title         Idea.Category Number.of.Votes Collaboration.Status\n",
            "1     Idea 1 Sustainable Transport             231   Single Contributor\n",
            "2     Idea 2      Water Management             477  Cross-Regional Team\n",
            "3     Idea 3      Renewable Energy              48  Cross-Regional Team\n",
            "4     Idea 4      Circular Economy             330  Cross-Regional Team\n",
            "5     Idea 5      Circular Economy             428   Single Contributor\n",
            "6     Idea 6      Circular Economy             431   Single Contributor\n",
            "  Approval.Status Implementation.Status Security.Concern.Flag       Date\n",
            "1         Pending           Not Started                    No 2024-04-16\n",
            "2        Approved           In Progress                    No 2024-01-14\n",
            "3        Approved           Not Started                   Yes 2025-01-10\n",
            "4        Approved             Completed                    No 2023-12-24\n",
            "5        Approved           Not Started                    No 2025-02-13\n",
            "6        Rejected           Not Started                    No 2024-09-08\n",
            "  Popularity\n",
            "1      0.462\n",
            "2      0.954\n",
            "3      0.096\n",
            "4      0.660\n",
            "5      0.856\n",
            "6      0.862\n"
          ]
        }
      ]
    },
    {
      "cell_type": "code",
      "source": [
        "# Grouping and Summarising\n",
        "\n",
        "# Calculate number and percentage of security-flagged ideas per department\n",
        "security_summary <- ideas %>%\n",
        "  group_by(Department) %>%\n",
        "  summarise(\n",
        "    TotalIdeas     = n(),\n",
        "    SecurityCount  = sum(Security.Concern.Flag == \"Yes\"),\n",
        "    SecurityPct    = round(SecurityCount * 100 / TotalIdeas, 2)\n",
        "  )\n",
        "\n",
        "print(\"Security-flag summary by department:\")\n",
        "print(security_summary)\n"
      ],
      "metadata": {
        "colab": {
          "base_uri": "https://localhost:8080/"
        },
        "id": "iqZ7eesi1m9G",
        "outputId": "ba7065ec-ecff-46a5-93d5-33b2a985c25a"
      },
      "execution_count": null,
      "outputs": [
        {
          "output_type": "stream",
          "name": "stdout",
          "text": [
            "[1] \"Security-flag summary by department:\"\n",
            "\u001b[90m# A tibble: 6 × 4\u001b[39m\n",
            "  Department           TotalIdeas SecurityCount SecurityPct\n",
            "  \u001b[3m\u001b[90m<chr>\u001b[39m\u001b[23m                     \u001b[3m\u001b[90m<int>\u001b[39m\u001b[23m         \u001b[3m\u001b[90m<int>\u001b[39m\u001b[23m       \u001b[3m\u001b[90m<dbl>\u001b[39m\u001b[23m\n",
            "\u001b[90m1\u001b[39m Environmental Policy        499            46        9.22\n",
            "\u001b[90m2\u001b[39m Infrastructure              547            46        8.41\n",
            "\u001b[90m3\u001b[39m Renewable Energy            513            44        8.58\n",
            "\u001b[90m4\u001b[39m Research                    498            52       10.4 \n",
            "\u001b[90m5\u001b[39m Technology                  457            39        8.53\n",
            "\u001b[90m6\u001b[39m Urban Development           486            40        8.23\n"
          ]
        }
      ]
    },
    {
      "cell_type": "code",
      "source": [
        "#@title  Data Visualization in R\n"
      ],
      "metadata": {
        "id": "C-85_sdM2B-h"
      },
      "execution_count": null,
      "outputs": []
    },
    {
      "cell_type": "code",
      "source": [
        "# Bar Plot – Submissions by Department\n",
        "\n",
        "# Count ideas per department\n",
        "dept_counts <- ideas %>%\n",
        "  count(Department, name = \"SubmissionCount\")\n",
        "\n",
        "# Plot bar chart\n",
        "ggplot(dept_counts, aes(x = Department, y = SubmissionCount)) +\n",
        "  geom_bar(stat = \"identity\") +\n",
        "  labs(\n",
        "    title = \"Idea Submissions by Department\",\n",
        "    x = \"Department\",\n",
        "    y = \"Number of Submissions\"\n",
        "  ) +\n",
        "  theme_minimal() +\n",
        "  theme(axis.text.x = element_text(angle = 45, hjust = 1))\n",
        "\n"
      ],
      "metadata": {
        "colab": {
          "base_uri": "https://localhost:8080/",
          "height": 437
        },
        "id": "wvEXUuhL2DoD",
        "outputId": "5cbf099a-e5ef-4593-e2b1-55fff72c754c"
      },
      "execution_count": null,
      "outputs": [
        {
          "output_type": "display_data",
          "data": {
            "text/plain": [
              "plot without title"
            ],
            "image/png": "[encoded data removed]"
          },
          "metadata": {
            "image/png": {
              "width": 420,
              "height": 420
            }
          }
        }
      ]
    },
    {
      "cell_type": "code",
      "source": [
        " # Line Chart: Monthly Submission Trend\n",
        "\n",
        "\n",
        " # Prepare monthly counts\n",
        "ideas$Date <- as.Date(ideas$`Idea.Submission.Date`, format = \"%d/%m/%Y\")\n",
        "monthly_trend <- ideas %>%\n",
        "  group_by(Month = format(Date, \"%Y-%m\")) %>%\n",
        "  summarise(SubmissionCount = n()) %>%\n",
        "  arrange(Month)\n",
        "\n",
        "# Plot line chart\n",
        "ggplot(monthly_trend, aes(x = as.Date(paste0(Month, \"-01\")), y = SubmissionCount)) +\n",
        "  geom_line() +\n",
        "  geom_point() +\n",
        "  labs(\n",
        "    title = \"Monthly Idea Submissions Over Time\",\n",
        "    x = \"Month\",\n",
        "    y = \"Submissions\"\n",
        "  ) +\n",
        "  theme_minimal()\n"
      ],
      "metadata": {
        "colab": {
          "base_uri": "https://localhost:8080/",
          "height": 437
        },
        "id": "PQe8b6ae2K_2",
        "outputId": "e6291ec0-54fb-4b71-a23b-497014b8d002"
      },
      "execution_count": null,
      "outputs": [
        {
          "output_type": "display_data",
          "data": {
            "text/plain": [
              "plot without title"
            ],
            "image/png": "[encoded data removed]"
          },
          "metadata": {
            "image/png": {
              "width": 420,
              "height": 420
            }
          }
        }
      ]
    },
    {
      "cell_type": "code",
      "source": [
        "# Compute total ideas and approval percentage per office\n",
        "region_summary <- ideas %>%\n",
        "  group_by(Office.Location) %>%\n",
        "  summarise(\n",
        "    TotalIdeas  = n(),\n",
        "    ApprovalPct = round(sum(Approval.Status == \"Approved\") / n() * 100, 2)\n",
        "  )\n",
        "\n",
        "# Plot scatter chart\n",
        "ggplot(region_summary, aes(x = TotalIdeas, y = ApprovalPct)) +\n",
        "  geom_point(size = 3) +\n",
        "  labs(\n",
        "    title = \"Approval Rate vs. Idea Volume by Office\",\n",
        "    x     = \"Total Ideas Submitted\",\n",
        "    y     = \"Approval Rate (%)\"\n",
        "  ) +\n",
        "  theme_minimal()\n"
      ],
      "metadata": {
        "colab": {
          "base_uri": "https://localhost:8080/",
          "height": 437
        },
        "id": "mlMhAvaJ2frm",
        "outputId": "c732ad9b-c293-47ca-8772-e2019f8fbd1e"
      },
      "execution_count": null,
      "outputs": [
        {
          "output_type": "display_data",
          "data": {
            "text/plain": [
              "plot without title"
            ],
            "image/png": "[encoded data removed]"
          },
          "metadata": {
            "image/png": {
              "width": 420,
              "height": 420
            }
          }
        }
      ]
    }
  ]
}